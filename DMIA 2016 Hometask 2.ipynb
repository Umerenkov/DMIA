{
 "cells": [
  {
   "cell_type": "markdown",
   "metadata": {},
   "source": [
    "# Python"
   ]
  },
  {
   "cell_type": "code",
   "execution_count": null,
   "metadata": {
    "collapsed": false
   },
   "outputs": [],
   "source": [
    "for i in range(1, 101):\n",
    "    if ((i % 3 == 0) and (i % 5 == 0)):\n",
    "        print('FizzBuzz')\n",
    "    elif (i % 3 == 0):\n",
    "        print('Fizz')\n",
    "    elif (i % 5 == 0):\n",
    "        print('Buzz')\n",
    "    else:\n",
    "        print(i)"
   ]
  },
  {
   "cell_type": "code",
   "execution_count": null,
   "metadata": {
    "collapsed": false
   },
   "outputs": [],
   "source": [
    "D = {0: 0, 1: 1}\n",
    "\n",
    "def fibo(n):\n",
    "    if n in D:\n",
    "        return D[n]\n",
    "    D[n] = fibo(n-1) + fibo(n-2)\n",
    "    return D[n]\n",
    "\n",
    "print fibo(500)"
   ]
  },
  {
   "cell_type": "code",
   "execution_count": null,
   "metadata": {
    "collapsed": false,
    "scrolled": true
   },
   "outputs": [],
   "source": [
    "def qsort(A):\n",
    "    _qsort(A, 0, len(A)-1)\n",
    "\n",
    "def _qsort(A, start, end):\n",
    "    if start < end:\n",
    "        pivot = partition(A, start, end)\n",
    "        _qsort(A, start, pivot-1)\n",
    "        _qsort(A, pivot+1, end)\n",
    "    return A\n",
    "\n",
    "def partition(A, start, end):\n",
    "    pivot = A[start]\n",
    "    l = start + 1\n",
    "    r = end\n",
    "    done = False\n",
    "    while not done:\n",
    "        while l <= r and A[l] <= pivot:\n",
    "            l = l + 1\n",
    "        while A[r] >= pivot and r >= l:\n",
    "            r = r - 1\n",
    "        if r < l:\n",
    "            done = True\n",
    "        else:\n",
    "            A[l], A[r] = A[r], A[l]\n",
    "            \n",
    "    A[start], A[r] = A[r], A[start]\n",
    "    return r\n",
    "\n",
    "A = [8, 1, 4, 7, 3, 2, 6, 9, 0]\n",
    "qsort(A)\n",
    "print A"
   ]
  },
  {
   "cell_type": "code",
   "execution_count": null,
   "metadata": {
    "collapsed": false
   },
   "outputs": [],
   "source": [
    "def qsort(A):\n",
    "    if len(A) <= 1: return A\n",
    "    return qsort([ l for l in A[1:] if l < A[0] ]) + [ A[0] ] + qsort([ g for g in A[1:] if g >= A[0] ])\n",
    "\n",
    "A = [8, 1, 4, 7, 3, 2, 6, 9, 0]\n",
    "sorted_A = qsort(A)\n",
    "print sorted_A"
   ]
  },
  {
   "cell_type": "markdown",
   "metadata": {
    "collapsed": true
   },
   "source": [
    "# NumPy"
   ]
  },
  {
   "cell_type": "code",
   "execution_count": null,
   "metadata": {
    "collapsed": false
   },
   "outputs": [],
   "source": [
    "# not ready at all, IN PROGRESS :(\n",
    "\n",
    "import numpy as np\n",
    "a = np.linspace(1.0, 3.0, num=8, endpoint= True)\n",
    "print a, type(a)\n",
    "\n",
    "def mylinspace(start, end, num, endpoint, retstep):\n",
    "    i = 0\n",
    "    if endpoint == False:\n",
    "        step = ((end-start) / num)\n",
    "    else: step = (end-start) / (num-1)\n",
    "    print step\n",
    "    a = list(step)\n",
    "    for i in range(num):\n",
    "        a.append(start+step*i)\n",
    "    a = (np.array)(a)\n",
    "    return(a)\n",
    "\n",
    "print mylinspace(1.0, 3.0, num=8, endpoint=True, retstep=False)\n"
   ]
  },
  {
   "cell_type": "markdown",
   "metadata": {},
   "source": [
    "# Matplotlib"
   ]
  },
  {
   "cell_type": "code",
   "execution_count": null,
   "metadata": {
    "collapsed": false
   },
   "outputs": [],
   "source": [
    "import matplotlib.pyplot as plt, numpy as np, scipy as sp\n",
    "%matplotlib inline\n",
    "\n",
    "#plt.rcParams['figure.figsize'] = 12.0, 5.5 как вариант\n",
    "\n",
    "plt.figure(figsize=(12, 5.5))\n",
    "x = np.linspace(0, 25)\n",
    "fig = plt.subplot(1, 2, 1)\n",
    "plt.plot(x, sp.sqrt(x), 'b-', label = r'$y_1=\\sqrt{x}$')\n",
    "plt.plot(x, sp.sin(x)+2, 'g-', label = r'$y_2=\\sin({x})+2$') \n",
    "plt.plot(x, sp.arctan(x), 'r-', label = r'$y_3=\\arctan({x})$')\n",
    "plt.xlabel(r'$x$', fontsize=16)\n",
    "plt.ylabel(r'$f(x)$', fontsize=16)\n",
    "plt.legend(loc = 2)\n",
    "plt.savefig('plot3.png', format='png')\n",
    "\n",
    "\"\"\"\n",
    "собственный вариант легенды, более симпатично выглядящий\n",
    "plt.text(1, 4, r'$y_1=\\sqrt{x}$', color='blue', fontsize=18)\n",
    "plt.text(1, 3.6, r'$y_2=\\sin({x})+2$', color='green', fontsize=18)\n",
    "plt.text(1, 3.2, r'$y_3=\\arctan({x})$', color='red', fontsize=18)\n",
    "\"\"\"\n",
    "\n",
    "plt.subplot(1, 2, 2)\n",
    "plt.plot(x, sp.log(x), 'c-', label = r'$y_4=\\ln{x}$', color = 'cyan')\n",
    "plt.plot(x, 1/(x+1), 'y-', label = r'$y_5=\\frac{1}{x+1}$', color = 'yellow')\n",
    "plt.xlabel(r'$x$', fontsize=16)\n",
    "plt.ylabel(r'$f(x)$', fontsize=16)\n",
    "plt.legend(loc = 2)\n",
    "plt.savefig('plot.png', format='png')\n",
    "\n",
    "plt.show()"
   ]
  },
  {
   "cell_type": "markdown",
   "metadata": {},
   "source": [
    "# SciPy"
   ]
  },
  {
   "cell_type": "code",
   "execution_count": null,
   "metadata": {
    "collapsed": false
   },
   "outputs": [],
   "source": [
    "import numpy as np\n",
    "from scipy import linalg\n",
    "\n",
    "A = np.random.randn(5,5)\n",
    "#A = np.array([[0 2], [1 1]])\n",
    "#A = np.array([[3, 2, 0], [1, -1, 0], [0, 5, 1]])\n",
    "print A\n",
    "trace = 0\n",
    "sumL = 0\n",
    "l = linalg.eig(A)\n",
    "for i in range(5):\n",
    "    sumL += l[0][i]\n",
    "    for j in range(5):\n",
    "        if i == j:\n",
    "            trace += A[i][j]\n",
    "print 'след исходной матрицы А равен сумме собственных чисел с точностью до 13 знака:'\n",
    "print round(trace, 13) == round(sumL.real, 13)                                                                     "
   ]
  }
 ],
 "metadata": {
  "kernelspec": {
   "display_name": "Python 2",
   "language": "python",
   "name": "python2"
  },
  "language_info": {
   "codemirror_mode": {
    "name": "ipython",
    "version": 2
   },
   "file_extension": ".py",
   "mimetype": "text/x-python",
   "name": "python",
   "nbconvert_exporter": "python",
   "pygments_lexer": "ipython2",
   "version": "2.7.11"
  }
 },
 "nbformat": 4,
 "nbformat_minor": 0
}
